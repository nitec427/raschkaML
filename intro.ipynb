{
 "cells": [
  {
   "cell_type": "code",
   "execution_count": null,
   "metadata": {},
   "outputs": [],
   "source": []
  },
  {
   "attachments": {},
   "cell_type": "markdown",
   "metadata": {},
   "source": [
    "GNNs have been applied in a variety of areas, including the following:\n",
    "- Text Classification\n",
    "- Recommendation Systems\n",
    "- Traffic Forecasting"
   ]
  },
  {
   "attachments": {},
   "cell_type": "markdown",
   "metadata": {},
   "source": [
    "By using networkX, library we are in a position to understand and interpret Graph data."
   ]
  },
  {
   "cell_type": "code",
   "execution_count": 1,
   "metadata": {},
   "outputs": [],
   "source": [
    "import numpy as np"
   ]
  },
  {
   "cell_type": "code",
   "execution_count": 2,
   "metadata": {},
   "outputs": [],
   "source": [
    "import networkx as nx"
   ]
  },
  {
   "cell_type": "code",
   "execution_count": 3,
   "metadata": {},
   "outputs": [],
   "source": [
    "Graph = nx.Graph()\n",
    "blue, orange, green = '#1f77b4', '#ff7f0e', '#2ca02c'"
   ]
  },
  {
   "cell_type": "code",
   "execution_count": 4,
   "metadata": {},
   "outputs": [],
   "source": [
    "Graph.add_nodes_from(\n",
    "    [\n",
    "        (1,{\"color\": blue}),\n",
    "        (2,{\"color\": orange}),\n",
    "        (3,{\"color\": blue}),\n",
    "        (4,{\"color\": green}),\n",
    "    ]\n",
    ")"
   ]
  },
  {
   "cell_type": "code",
   "execution_count": 5,
   "metadata": {},
   "outputs": [],
   "source": [
    "Graph.add_edges_from([(1,2), (2,3), (1,3), (3,4)])"
   ]
  },
  {
   "cell_type": "code",
   "execution_count": 6,
   "metadata": {},
   "outputs": [],
   "source": [
    "import numpy as np\n",
    "A = np.asarray(nx.adjacency_matrix(Graph).todense())"
   ]
  },
  {
   "cell_type": "code",
   "execution_count": 7,
   "metadata": {},
   "outputs": [
    {
     "data": {
      "text/plain": [
       "array([[0, 1, 1, 0],\n",
       "       [1, 0, 1, 0],\n",
       "       [1, 1, 0, 1],\n",
       "       [0, 0, 1, 0]], dtype=int32)"
      ]
     },
     "execution_count": 7,
     "metadata": {},
     "output_type": "execute_result"
    }
   ],
   "source": [
    "A"
   ]
  },
  {
   "cell_type": "code",
   "execution_count": 8,
   "metadata": {},
   "outputs": [],
   "source": [
    "def build_graph_color_label_repr(G : nx.Graph, mapping_dict):\n",
    "    \"\"\"\n",
    "    Build a graph color label representation from a networkx graph\n",
    "    \"\"\"\n",
    "    one_hot_indices = np.array([mapping_dict[vertex] for vertex in nx.get_node_attributes(Graph, 'color').values()])\n",
    "    \n",
    "    one_hot_encoding = np.zeros((one_hot_indices.size, len(mapping_dict)))\n",
    "    \n",
    "    one_hot_encoding[np.arange(one_hot_indices.size), one_hot_indices] = 1\n",
    "    \n",
    "    return one_hot_encoding\n",
    "\n",
    "X = build_graph_color_label_repr(Graph, {green: 0, blue: 1, orange: 2})"
   ]
  },
  {
   "cell_type": "code",
   "execution_count": 9,
   "metadata": {},
   "outputs": [
    {
     "data": {
      "text/plain": [
       "array([[0., 1., 0.],\n",
       "       [0., 0., 1.],\n",
       "       [0., 1., 0.],\n",
       "       [1., 0., 0.]])"
      ]
     },
     "execution_count": 9,
     "metadata": {},
     "output_type": "execute_result"
    }
   ],
   "source": [
    "X"
   ]
  },
  {
   "cell_type": "code",
   "execution_count": 10,
   "metadata": {},
   "outputs": [
    {
     "name": "stdout",
     "output_type": "stream",
     "text": [
      "dict_values(['#1f77b4', '#ff7f0e', '#1f77b4', '#2ca02c'])\n"
     ]
    },
    {
     "data": {
      "image/png": "[encoded data removed]",
      "text/plain": [
       "<Figure size 432x288 with 1 Axes>"
      ]
     },
     "metadata": {},
     "output_type": "display_data"
    }
   ],
   "source": [
    "color_map = nx.get_node_attributes(Graph, 'color').values()\n",
    "print(color_map)\n",
    "nx.draw(Graph, with_labels=True,node_color=color_map)"
   ]
  },
  {
   "cell_type": "code",
   "execution_count": 11,
   "metadata": {},
   "outputs": [
    {
     "data": {
      "text/plain": [
       "array([[0., 1., 0.],\n",
       "       [0., 0., 1.],\n",
       "       [0., 1., 0.],\n",
       "       [1., 0., 0.]])"
      ]
     },
     "execution_count": 11,
     "metadata": {},
     "output_type": "execute_result"
    }
   ],
   "source": [
    "X"
   ]
  },
  {
   "cell_type": "code",
   "execution_count": 12,
   "metadata": {},
   "outputs": [],
   "source": [
    "f_in, f_out = X.shape[1], 6\n",
    "W_1 = np.random.rand(f_in, f_out)"
   ]
  },
  {
   "cell_type": "code",
   "execution_count": 13,
   "metadata": {},
   "outputs": [],
   "source": [
    "W_2 = np.random.rand(f_in, f_out)"
   ]
  },
  {
   "cell_type": "code",
   "execution_count": 14,
   "metadata": {},
   "outputs": [
    {
     "data": {
      "text/plain": [
       "array([[0., 1., 0.],\n",
       "       [0., 0., 1.],\n",
       "       [0., 1., 0.],\n",
       "       [1., 0., 0.]])"
      ]
     },
     "execution_count": 14,
     "metadata": {},
     "output_type": "execute_result"
    }
   ],
   "source": [
    "X"
   ]
  },
  {
   "cell_type": "code",
   "execution_count": 15,
   "metadata": {},
   "outputs": [
    {
     "data": {
      "text/plain": [
       "array([[0.70836023, 0.52824654, 0.39848026, 0.3694697 , 0.66714223,\n",
       "        0.30688213],\n",
       "       [0.72603163, 0.49789556, 0.88437196, 0.07101018, 0.28421969,\n",
       "        0.223869  ],\n",
       "       [0.85503266, 0.45123835, 0.34075288, 0.94658667, 0.1946177 ,\n",
       "        0.3898614 ]])"
      ]
     },
     "execution_count": 15,
     "metadata": {},
     "output_type": "execute_result"
    }
   ],
   "source": [
    "W_1"
   ]
  },
  {
   "cell_type": "code",
   "execution_count": 16,
   "metadata": {},
   "outputs": [
    {
     "data": {
      "text/plain": [
       "array([[0.90122816, 0.71546546, 0.22337609, 0.93808219, 0.81810166,\n",
       "        0.49128494],\n",
       "       [0.30707397, 0.22082489, 0.20728336, 0.20323248, 0.95853674,\n",
       "        0.41444067],\n",
       "       [0.60607963, 0.09679573, 0.52138904, 0.94077487, 0.31309976,\n",
       "        0.40758943]])"
      ]
     },
     "execution_count": 16,
     "metadata": {},
     "output_type": "execute_result"
    }
   ],
   "source": [
    "W_2"
   ]
  },
  {
   "cell_type": "code",
   "execution_count": 18,
   "metadata": {},
   "outputs": [],
   "source": [
    "h = np.dot(X, W_1) + np.dot(A,X).dot(W_2)"
   ]
  },
  {
   "cell_type": "code",
   "execution_count": 19,
   "metadata": {},
   "outputs": [
    {
     "data": {
      "text/plain": [
       "array([[1.63918523, 0.81551617, 1.61304435, 1.21501753, 1.55585618,\n",
       "        1.0458991 ],\n",
       "       [1.46918061, 0.89288812, 0.7553196 , 1.35305164, 2.11169117,\n",
       "        1.21874275],\n",
       "       [2.54041339, 1.53098163, 1.83642044, 2.15309972, 2.37395784,\n",
       "        1.53718404],\n",
       "       [1.0154342 , 0.74907143, 0.60576362, 0.57270219, 1.62567897,\n",
       "        0.7213228 ]])"
      ]
     },
     "execution_count": 19,
     "metadata": {},
     "output_type": "execute_result"
    }
   ],
   "source": [
    "h"
   ]
  },
  {
   "attachments": {},
   "cell_type": "markdown",
   "metadata": {},
   "source": [
    "Ultimately, we want a graph convolutional layer to update the representation of the node information\n",
    "encoded in X by utilizing the structural (connectivity) information provided by A. There are many potential ways to do this, and this plays out in the numerous kinds of graph convolutions that have been developed."
   ]
  },
  {
   "cell_type": "code",
   "execution_count": null,
   "metadata": {},
   "outputs": [],
   "source": []
  }
 ],
 "metadata": {
  "kernelspec": {
   "display_name": "school",
   "language": "python",
   "name": "python3"
  },
  "language_info": {
   "codemirror_mode": {
    "name": "ipython",
    "version": 3
   },
   "file_extension": ".py",
   "mimetype": "text/x-python",
   "name": "python",
   "nbconvert_exporter": "python",
   "pygments_lexer": "ipython3",
   "version": "3.10.6"
  },
  "orig_nbformat": 4,
  "vscode": {
   "interpreter": {
    "hash": "9e0aeeaa25cedfd1df25cd95acb77ac53c29de70ea5c611c10eff32776ac6395"
   }
  }
 },
 "nbformat": 4,
 "nbformat_minor": 2
}
